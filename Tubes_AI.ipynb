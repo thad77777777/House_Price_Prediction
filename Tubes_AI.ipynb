{
 "cells": [
  {
   "cell_type": "code",
   "execution_count": null,
   "id": "4c4b78ad-e534-423c-847d-5f1f04e6c229",
   "metadata": {},
   "outputs": [],
   "source": [
    "import tensorflow as tf\n",
    "import pandas as pd\n",
    "import numpy as np"
   ]
  },
  {
   "cell_type": "code",
   "execution_count": null,
   "id": "4e1ccdcf-cc27-49fc-9e09-b134deb91d35",
   "metadata": {},
   "outputs": [],
   "source": [
    "data_csv = pd.read_csv('data.csv')"
   ]
  },
  {
   "cell_type": "code",
   "execution_count": null,
   "id": "1b3ba5f4-116a-4e36-a47b-36c0a311b287",
   "metadata": {},
   "outputs": [],
   "source": [
    "from google.colab import drive\n",
    "drive.mount('/content/drive')"
   ]
  },
  {
   "cell_type": "code",
   "execution_count": null,
   "id": "0da9cb07-24c5-4654-b7a4-2e18cd04bcee",
   "metadata": {},
   "outputs": [],
   "source": [
    "print (data_csv)"
   ]
  },
  {
   "cell_type": "code",
   "execution_count": null,
   "id": "200fd21d-5a54-4fad-837f-5d19e277ed9b",
   "metadata": {},
   "outputs": [],
   "source": [
    "bedrooms = data_csv['bedrooms']\n",
    "bathrooms = data_csv['bathrooms']\n",
    "luas = data_csv['sqft_living']\n",
    "floor = data_csv['floors']\n",
    "price = data_csv['price']"
   ]
  },
  {
   "cell_type": "code",
   "execution_count": null,
   "id": "431c091f-dc2e-4201-a076-ff244bd9cf57",
   "metadata": {},
   "outputs": [],
   "source": [
    "rumah_all = []\n",
    "\n",
    "for index in range(len(bedrooms)):\n",
    "  rumah = []\n",
    "  rumah.append(bedrooms[index])\n",
    "  rumah.append(bathrooms[index])\n",
    "  rumah.append(luas[index])\n",
    "  rumah.append(floor[index])\n",
    "\n",
    "  rumah_all.append(rumah)"
   ]
  },
  {
   "cell_type": "code",
   "execution_count": null,
   "id": "ea7ae232-38ce-4037-8028-73bc756bd3c1",
   "metadata": {},
   "outputs": [],
   "source": [
    "print(rumah_all)\n",
    "rumah_all = np.array(rumah_all)\n",
    "price = np.array(price)"
   ]
  },
  {
   "cell_type": "code",
   "execution_count": null,
   "id": "4a575c5f-9fea-46dc-98a7-9256df3a48c7",
   "metadata": {},
   "outputs": [],
   "source": [
    "model = tf.keras.models.Sequential([\n",
    "        tf.keras.layers.Dense(units = 1, input_shape = [4])\n",
    "\n",
    "])"
   ]
  },
  {
   "cell_type": "code",
   "execution_count": null,
   "id": "e78c919d-7e08-40cb-8f8f-fc2242f81124",
   "metadata": {},
   "outputs": [],
   "source": [
    "model.compile(\n",
    "    loss = 'mae',\n",
    "    optimizer = 'sgd',\n",
    "    metrics = ['accuracy']\n",
    ")"
   ]
  },
  {
   "cell_type": "code",
   "execution_count": null,
   "id": "4d19d3ee-1be8-4ef5-923f-396c54ce3387",
   "metadata": {},
   "outputs": [],
   "source": [
    "model.fit(\n",
    "    rumah_all, price, epochs=100\n",
    ")"
   ]
  },
  {
   "cell_type": "code",
   "execution_count": null,
   "id": "902b8516-ea9a-4a96-a84e-70fc349f2f1b",
   "metadata": {},
   "outputs": [],
   "source": [
    "kamar_tidur = int(input(\"Masukkan jumlah kamar tidur yang anda inginkan : \"))\n",
    "kamar_mandi = int(input(\"Berapa banyak kamar mandi yang anda inginkan : \"))\n",
    "luas_rumah = int(input(\"Anda mau rumah seluas apa ? \"))\n",
    "jumlah_lantai = int(input(\"Anda ingin punya rumah berapa lantai ? \"))"
   ]
  },
  {
   "cell_type": "code",
   "execution_count": null,
   "id": "bdf28bde-82bd-494a-bb42-d17a05d54071",
   "metadata": {},
   "outputs": [],
   "source": [
    "prediksi_harga = model.predict([[kamar_tidur, kamar_mandi, luas_rumah, jumlah_lantai]])\n",
    "print(\"Rumah impian anda, kira-kira harganya {} USD\".format(prediksi_harga[0][0]))"
   ]
  },
  {
   "cell_type": "code",
   "execution_count": null,
   "id": "5c4a0c89-106d-4ed2-9f36-5c697c2878f9",
   "metadata": {},
   "outputs": [],
   "source": [
    "#@title input with slider\n",
    "\n",
    "kamar_tidur = 3 #@param {type: \"slider\", min:0, max:5}\n",
    "kamar_mandi = 1 #@param {type: \"slider\", min:0, max:3}\n",
    "luas_rumah = 154 #@param {type: \"slider\", min:0, max:200}\n",
    "jumlah_lantai = 2 #@param {type: \"slider\", min:0, max:4}\n",
    "\n",
    "print(\"jumlah kamar tidur:\",kamar_tidur)\n",
    "print(\"jumlah kamar mandi:\",kamar_mandi)\n",
    "print(\"jumlah luas rumah:\", luas_rumah)\n",
    "print(\"jumlah lantai:\", jumlah_lantai)\n",
    "\n",
    "prediksi_harga = model.predict([[kamar_tidur, kamar_mandi, luas_rumah, jumlah_lantai]])\n",
    "print(\"Rumah impian anda, kira-kira harganya {} USD\".format(prediksi_harga[0][0]))"
   ]
  },
  {
   "cell_type": "code",
   "execution_count": null,
   "id": "8f121205-3f2d-4be5-a5d6-c2bd1ed6fa02",
   "metadata": {},
   "outputs": [],
   "source": []
  }
 ],
 "metadata": {
  "kernelspec": {
   "display_name": "",
   "name": ""
  },
  "language_info": {
   "name": ""
  }
 },
 "nbformat": 4,
 "nbformat_minor": 5
}
